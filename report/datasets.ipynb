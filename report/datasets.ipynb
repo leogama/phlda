{
 "cells": [
  {
   "cell_type": "markdown",
   "metadata": {},
   "source": [
    "---\n",
    "title: \"Datasets description\"\n",
    "output:\n",
    "  html_document:\n",
    "    df_print: paged\n",
    "---\n",
    "\n",
    "# Setup"
   ]
  },
  {
   "cell_type": "code",
   "execution_count": null,
   "metadata": {},
   "outputs": [],
   "source": [
    "root_dir <- rprojroot::is_git_root$find_file()\n",
    "#knitr::opts_knit$set(root.dir=root_dir)\n",
    "setwd(root_dir)\n",
    ".libPaths(c(.libPaths(), 'env/lib/R'))\n",
    "\n",
    "library(magrittr)\n",
    "source('lib/R/geo.R')\n",
    "config <- yaml::read_yaml('config.yml')"
   ]
  },
  {
   "cell_type": "markdown",
   "metadata": {},
   "source": [
    "## List of datasets"
   ]
  },
  {
   "cell_type": "code",
   "execution_count": null,
   "metadata": {},
   "outputs": [],
   "source": [
    "config$geo_datasets %>% paste(seq_along(.), ., sep=': ') %>% cat(sep=', ')"
   ]
  },
  {
   "cell_type": "markdown",
   "metadata": {},
   "source": [
    "## Select dataset"
   ]
  },
  {
   "cell_type": "code",
   "execution_count": null,
   "metadata": {},
   "outputs": [],
   "source": [
    "(gse_id <- config$geo_datasets[1])"
   ]
  },
  {
   "cell_type": "markdown",
   "metadata": {},
   "source": [
    "# Information about dataset\n",
    "Information retrieved from NCBI database and GEO website"
   ]
  },
  {
   "cell_type": "code",
   "execution_count": null,
   "metadata": {},
   "outputs": [],
   "source": [
    "info_e = info_from_eutils(gse_id)\n",
    "info_w = info_from_web(gse_id)\n",
    "info_p = geo_to_pubmed(gse_id)\n",
    "\n",
    "info = c(info_e[c('title', 'summary')],\n",
    "         info_w[c('Overall design', 'geo_url')],\n",
    "         info_p[c('doi_url', 'title', 'abstract')])\n",
    "\n",
    "info %>% lapply(paste, collapse=' ') %>% paste(names(.), ., sep=': ') %>% cat(sep='\\n\\n')"
   ]
  }
 ],
 "metadata": {
   "kernelspec": {
     "name": "r",
     "display_name": "R",
     "language": "R"
   },
   "language_info": {
     "mimetype": "text/x-r-source",
     "name": "R",
     "pygments_lexer": "r",
     "version": "3.4.1",
     "file_extension": ".r",
     "codemirror_mode": "r"
   }
 },
 "nbformat": 4,
 "nbformat_minor": 2
}
