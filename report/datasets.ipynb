{
 "cells": [
  {
   "cell_type": "markdown",
   "metadata": {},
   "source": [
    "---\n",
    "title: \"Datasets description\"\n",
    "output: html_notebook\n",
    "---"
   ]
  },
  {
   "cell_type": "code",
   "execution_count": null,
   "metadata": {},
   "outputs": [],
   "source": [
    "#knitr::opts_knit$set(root.dir=dirname(getwd()))\n",
    "library(magrittr)\n",
    "source('../lib/R/geo.R')\n",
    "config <- yaml::read_yaml('../config.yaml')\n",
    "\n",
    "config$geo_datasets %>% paste(seq_along(.), ., sep=': ') %>% cat(sep=', ')"
   ]
  },
  {
   "cell_type": "code",
   "execution_count": null,
   "metadata": {},
   "outputs": [],
   "source": [
    "(gse_id <- config$geo_datasets[2])"
   ]
  },
  {
   "cell_type": "markdown",
   "metadata": {},
   "source": [
    "# Information about dataset\n",
    "\n",
    "Information retrieved from NCBI database and GEO website"
   ]
  },
  {
   "cell_type": "code",
   "execution_count": null,
   "metadata": {},
   "outputs": [],
   "source": [
    "info_e = info_from_eutils(gse_id)\n",
    "info_w = info_from_web(gse_id)\n",
    "info_p = geo_to_pubmed(gse_id)\n",
    "\n",
    "info = c(info_e[c('title', 'summary')],\n",
    "         info_w[c('Overall design', 'geo_url')],\n",
    "         info_p[c('doi_url', 'title', 'abstract')])\n",
    "\n",
    "info %>% lapply(paste, collapse=' ') %>% paste(names(.), ., sep=': ') %>% cat(sep='\\n\\n')"
   ]
  }
 ],
 "metadata": {},
 "nbformat": 4,
 "nbformat_minor": 2
}
