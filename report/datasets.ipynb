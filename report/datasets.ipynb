{
 "cells": [
  {
   "cell_type": "markdown",
   "metadata": {},
   "source": [
    "---\n",
    "title: \"Datasets Information\"\n",
    "output: html_notebook\n",
    "---"
   ]
  },
  {
   "cell_type": "code",
   "execution_count": null,
   "metadata": {},
   "outputs": [],
   "source": [
    "### Execution environment setup ###\n",
    "if (!exists('.SETUP', 1)) {\n",
    "\n",
    "# find library's root directory\n",
    "root_dir <- rprojroot::is_git_root$find_file()\n",
    "if (getwd() != root_dir) setwd(root_dir)\n",
    "\n",
    "# wait library setup to finish\n",
    "source('lib/R/utils.R')\n",
    "finished_setup <- 'tail -1 ~/.nb.setup.log | grep -q \"Done initial azure notebooks environment setup\"'\n",
    "if (file.exists('~/.nb.setup.log')) retry(stopifnot(!system(finished_setup)), times=100, delay=5)\n",
    "\n",
    "# load packages used here\n",
    ".libPaths(c('env/lib/R', .libPaths()))\n",
    "suppressPackageStartupMessages({\n",
    "    library(magrittr)\n",
    "    library(simpleCache)\n",
    "    setCacheDir('cache')\n",
    "})\n",
    "\n",
    "# load global parameters\n",
    "config <- yaml::read_yaml('config.yml')\n",
    "\n",
    "# prevent re-execution\n",
    ".SETUP <- TRUE\n",
    "}"
   ]
  },
  {
   "cell_type": "markdown",
   "metadata": {},
   "source": [
    "## Experimental design"
   ]
  },
  {
   "cell_type": "code",
   "execution_count": null,
   "metadata": {},
   "outputs": [],
   "source": [
    "read.delim('annot/datasets.tsv', na.strings='')"
   ]
  },
  {
   "cell_type": "markdown",
   "metadata": {},
   "source": [
    "## Choose dataset"
   ]
  },
  {
   "cell_type": "code",
   "execution_count": null,
   "metadata": {},
   "outputs": [],
   "source": [
    "config$geo_datasets %>% paste(seq_along(.), ., sep=': ') %>% cat(sep=', ')"
   ]
  },
  {
   "cell_type": "code",
   "execution_count": null,
   "metadata": {},
   "outputs": [],
   "source": [
    "gse_id <- config$geo_datasets[8]\n",
    "cat('Selected dataset:', gse_id)"
   ]
  },
  {
   "cell_type": "markdown",
   "metadata": {},
   "source": [
    "## Description\n",
    "Information retrieved from NCBI database, GEO website and `GEOmetadb`."
   ]
  },
  {
   "cell_type": "code",
   "execution_count": null,
   "metadata": {},
   "outputs": [],
   "source": [
    "gse_id %>%\n",
    "    sprintf(fmt='output/info/%s.txt') %>%\n",
    "    dget() %>%\n",
    "    extract(c('title', 'summary', 'Overall design', 'geo_url', 'article_url', 'article_title', 'article_abstract')) %>%\n",
    "    lapply(paste, collapse=' ') %>%\n",
    "    paste(toupper(names(.)), ., sep=': ') %>%\n",
    "    stringr::str_wrap(width=90) %>%\n",
    "    cat(sep='\\n\\n')"
   ]
  },
  {
   "cell_type": "markdown",
   "metadata": {},
   "source": [
    "## Article highlights\n",
    "Relevant excerpts from associated publication."
   ]
  },
  {
   "cell_type": "code",
   "execution_count": null,
   "metadata": {},
   "outputs": [],
   "source": [
    "gse_id %>%\n",
    "    sprintf(fmt='annot/article/%s.txt') %>%\n",
    "    scan(character(), sep='\\n', quote='\"', comment.char='(', quiet=T) %>%\n",
    "    stringr::str_wrap(width=90) %>%\n",
    "    cat(sep='\\n\\n')"
   ]
  }
 ],
 "metadata": {
   "kernelspec": {
     "name": "r",
     "display_name": "R",
     "language": "R"
   },
   "language_info": {
     "mimetype": "text/x-r-source",
     "name": "R",
     "pygments_lexer": "r",
     "version": "3.4.1",
     "file_extension": ".r",
     "codemirror_mode": "r"
   }
 },
 "nbformat": 4,
 "nbformat_minor": 2
}
