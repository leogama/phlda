{
 "cells": [
  {
   "cell_type": "markdown",
   "metadata": {},
   "source": [
    "---\n",
    "title: \"Datasets description\"\n",
    "output: html_notebook\n",
    "---"
   ]
  },
  {
   "cell_type": "code",
   "execution_count": null,
   "metadata": {},
   "outputs": [],
   "source": [
    "%%R\n",
    "#knitr::opts_knit$set(root.dir=dirname(getwd()))\n",
    "library(magrittr)\n",
    "source('../lib/R/geo.R')\n",
    "\n",
    "config <- yaml::read_yaml('../config.yaml')\n",
    "config$geo_datasets %>% paste(seq_along(.), ., sep=': ') %>% cat(sep=', ')"
   ]
  },
  {
   "cell_type": "code",
   "execution_count": null,
   "metadata": {},
   "outputs": [],
   "source": [
    "%%R\n",
    "gse_id <- config$geo_datasets[1]\n",
    "#info <- dget(sprintf('../output/info/%s.txt', gse_id))\n",
    "gse_id"
   ]
  },
  {
   "cell_type": "markdown",
   "metadata": {},
   "source": [
    "# Information about dataset\n",
    "Information retrieved from GEO and PubMed"
   ]
  },
  {
   "cell_type": "code",
   "execution_count": null,
   "metadata": {},
   "outputs": [],
   "source": [
    "%%R\n",
    "info = info_from_eutils(gse_id)\n",
    "info[!grepl('samples', names(info))]"
   ]
  },
  {
   "cell_type": "code",
   "execution_count": null,
   "metadata": {},
   "outputs": [],
   "source": [
    "%%R\n",
    "info_from_web(gse_id)"
   ]
  },
  {
   "cell_type": "code",
   "execution_count": null,
   "metadata": {},
   "outputs": [],
   "source": [
    "%%R\n",
    "geo_to_pubmed(gse_id)"
   ]
  }
 ],
 "metadata": {},
 "nbformat": 4,
 "nbformat_minor": 2
}
