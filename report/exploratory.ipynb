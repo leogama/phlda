{
 "cells": [
  {
   "cell_type": "markdown",
   "metadata": {},
   "source": [
    "---\n",
    "output: html_notebook\n",
    "title: \"Exploratory Analysis\"\n",
    "---"
   ]
  },
  {
   "cell_type": "code",
   "execution_count": null,
   "metadata": {},
   "outputs": [],
   "source": [
    "source(rprojroot::is_git_root$find_file('lib/R/utils.R'))\n",
    "config <- setup(packages=c('dplyr', 'GEOquery', 'ggplot2', 'jetset'))"
   ]
  },
  {
   "cell_type": "markdown",
   "metadata": {},
   "source": [
    "## Choose dataset"
   ]
  },
  {
   "cell_type": "code",
   "execution_count": null,
   "metadata": {},
   "outputs": [],
   "source": [
    "config$geo_datasets %>% paste(seq_along(.), ., sep=': ') %>% cat(sep=', ')"
   ]
  },
  {
   "cell_type": "code",
   "execution_count": null,
   "metadata": {},
   "outputs": [],
   "source": [
    "gse_id <- config$geo_datasets[6]\n",
    "\n",
    "cat('Selected dataset:', gse_id)"
   ]
  },
  {
   "cell_type": "markdown",
   "metadata": {},
   "source": [
    "# Load data"
   ]
  },
  {
   "cell_type": "code",
   "execution_count": null,
   "metadata": {},
   "outputs": [],
   "source": [
    "eset <- load_data(gse_id)\n",
    "\n",
    "print(eset)"
   ]
  },
  {
   "cell_type": "code",
   "execution_count": null,
   "metadata": {},
   "outputs": [],
   "source": [
    "pdata <- read.delim(sprintf('data/meta/%s.tsv', gse_id), check.names=FALSE, colClasses='character')\n",
    "annot <- gse_id %>%\n",
    "    parse_annotation(pdata) %>%\n",
    "        as.data.frame() %>%\n",
    "        cbind(pdata) %>%\n",
    "\n",
    "annot %>%\n",
    "    filter(her2 == 'HER2+') %>%\n",
    "    select(treatment, outcome) %>%\n",
    "    table()"
   ]
  },
  {
   "cell_type": "code",
   "execution_count": null,
   "metadata": {},
   "outputs": [],
   "source": [
    "platform <- c(GPL96='hgu133a', GPL570='hgu133plus2')\n",
    "probes <- jmap(platform[attr(eset, 'annotation')], symbol=config$genes)\n",
    "\n",
    "samples <- annot %>%\n",
    "    filter(her2 == 'HER2+' & treatment != 'none' & !is.na(outcome)) %>%\n",
    "    getElement('geo_accession')\n",
    "\n",
    "dat <- gse_id %>%\n",
    "    load_data() %>%\n",
    "    exprs() %>%\n",
    "    extract(probes, samples) %>%\n",
    "    t() %>%\n",
    "    as.data.frame() %>%\n",
    "    setNames(config$genes) %>%\n",
    "    cbind(select(annot, geo_accession, treatment, outcome))\n",
    "\n",
    "print(head(dat))"
   ]
  },
  {
   "cell_type": "markdown",
   "metadata": {},
   "source": [
    "# Expression levels"
   ]
  },
  {
   "cell_type": "code",
   "execution_count": null,
   "metadata": {},
   "outputs": [],
   "source": [
    "plot_expr <- function(gene, dat) {\n",
    "    p_value <- with(dat, {\n",
    "        x <- dat[outcome == 'pCR', gene]\n",
    "        y <- dat[outcome == 'RD', gene]\n",
    "        t.test(x, y)$p.value\n",
    "    })\n",
    "    ggplot(dat) +\n",
    "        geom_boxplot() +\n",
    "        geom_jitter(position=position_jitter(width=0.1)) +\n",
    "        aes_string(x='outcome', y=gene, fill='outcome') +\n",
    "        ggtitle(sprintf('P-value for t-test: %.3f', p_value))\n",
    "}\n",
    "\n",
    "for (gene in config$genes) {\n",
    "    print(plot_expr(gene, dat))\n",
    "}"
   ]
  },
  {
   "cell_type": "markdown",
   "metadata": {},
   "source": [
    "## Correlation between gene expression levels"
   ]
  },
  {
   "cell_type": "code",
   "execution_count": null,
   "metadata": {},
   "outputs": [],
   "source": [
    "plot_corr <- function(pair, dat) {\n",
    "    ggplot(dat) + geom_point() +\n",
    "        aes_string(pair[1], pair[2], color='outcome') +\n",
    "        ggtitle(sprintf('Correlation: %.2f', cor(dat[[pair[1]]], dat[[pair[2]]])))\n",
    "}\n",
    "\n",
    "gene_pairs <- combn(config$genes, 2, simplify=FALSE)\n",
    "\n",
    "for (pair in gene_pairs) {\n",
    "    print(plot_corr(pair, dat))\n",
    "}"
   ]
  }
 ],
 "metadata": {
   "kernelspec": {
     "name": "r",
     "display_name": "R",
     "language": "R"
   },
   "language_info": {
     "mimetype": "text/x-r-source",
     "name": "R",
     "pygments_lexer": "r",
     "version": "3.4.1",
     "file_extension": ".r",
     "codemirror_mode": "r"
   }
 },
 "nbformat": 4,
 "nbformat_minor": 2
}
