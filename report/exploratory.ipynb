{
 "cells": [
  {
   "cell_type": "markdown",
   "metadata": {},
   "source": [
    "---\n",
    "output: html_notebook\n",
    "title: \"Exploratory Analysis\"\n",
    "---"
   ]
  },
  {
   "cell_type": "code",
   "execution_count": null,
   "metadata": {},
   "outputs": [],
   "source": [
    "source(rprojroot::is_git_root$find_file('lib/R/utils.R'))\n",
    "config <- notebook_setup(packages=c('dplyr', 'GEOquery'))"
   ]
  },
  {
   "cell_type": "markdown",
   "metadata": {},
   "source": [
    "## Choose dataset"
   ]
  },
  {
   "cell_type": "code",
   "execution_count": null,
   "metadata": {},
   "outputs": [],
   "source": [
    "config$geo_datasets %>% paste(seq_along(.), ., sep=': ') %>% cat(sep=', ')"
   ]
  },
  {
   "cell_type": "code",
   "execution_count": null,
   "metadata": {},
   "outputs": [],
   "source": [
    "gse_id <- config$geo_datasets[2]\n",
    "cat('Selected dataset:', gse_id)"
   ]
  },
  {
   "cell_type": "markdown",
   "metadata": {},
   "source": [
    "## Load data"
   ]
  },
  {
   "cell_type": "code",
   "execution_count": null,
   "metadata": {},
   "outputs": [],
   "source": [
    "gse <- suppressMessages(simpleCache(sprintf('processed.%s', gse_id), {\n",
    "    gse_id %>%\n",
    "    sprintf(fmt='data/processed/%s_series_matrix.txt.gz') %>%\n",
    "    GEOquery:::parseGSEMatrix(destdir='data/processed') %$%\n",
    "    eset\n",
    "}))\n",
    "print(gse)"
   ]
  },
  {
   "cell_type": "code",
   "execution_count": null,
   "metadata": {},
   "outputs": [],
   "source": [
    "annot <- as.data.table(parse_annotation(gse_id, pData(gse)))\n",
    "annot %>%\n",
    "    filter(her2 == 'HER2+') %>%\n",
    "    select(treatment, outcome) %>%\n",
    "    table()"
   ]
  }
 ],
 "metadata": {
   "kernelspec": {
     "name": "r",
     "display_name": "R",
     "language": "R"
   },
   "language_info": {
     "mimetype": "text/x-r-source",
     "name": "R",
     "pygments_lexer": "r",
     "version": "3.4.1",
     "file_extension": ".r",
     "codemirror_mode": "r"
   }
 },
 "nbformat": 4,
 "nbformat_minor": 2
}
