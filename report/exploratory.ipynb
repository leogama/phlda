{
 "cells": [
  {
   "cell_type": "markdown",
   "metadata": {},
   "source": [
    "---\n",
    "title: \"Exploratory Analysis\"\n",
    "output: html_notebook\n",
    "---"
   ]
  },
  {
   "cell_type": "code",
   "execution_count": null,
   "metadata": {},
   "outputs": [],
   "source": [
    "### Execution environment setup ###\n",
    "if (!exists('.SETUP', 1)) {\n",
    "\n",
    "# find library's root directory\n",
    "root_dir <- rprojroot::is_git_root$find_file()\n",
    "if (getwd() != root_dir) setwd(root_dir)\n",
    "\n",
    "# wait library setup to finish\n",
    "source('lib/R/utils.R')\n",
    "finished_setup <- 'tail -1 ~/.nb.setup.log | grep -q \"Done initial azure notebooks environment setup\"'\n",
    "if (file.exists('~/.nb.setup.log')) retry(stopifnot(!system(finished_setup)), times=100, delay=5)\n",
    "\n",
    "# load packages used here\n",
    ".libPaths(c('env/lib/R', .libPaths()))\n",
    "suppressPackageStartupMessages({\n",
    "    library(magrittr)\n",
    "    library(simpleCache)\n",
    "    setCacheDir('cache')\n",
    "    \n",
    "    library(GEOquery)\n",
    "})\n",
    "\n",
    "# load global parameters\n",
    "config <- yaml::read_yaml('config.yml')\n",
    "\n",
    "# prevent re-execution\n",
    ".SETUP <- TRUE\n",
    "}"
   ]
  },
  {
   "cell_type": "markdown",
   "metadata": {},
   "source": [
    "## Choose dataset"
   ]
  },
  {
   "cell_type": "code",
   "execution_count": null,
   "metadata": {},
   "outputs": [],
   "source": [
    "config$geo_datasets %>% paste(seq_along(.), ., sep=': ') %>% cat(sep=', ')"
   ]
  },
  {
   "cell_type": "code",
   "execution_count": null,
   "metadata": {},
   "outputs": [],
   "source": [
    "gse_id <- config$geo_datasets[2]\n",
    "cat('Selected dataset:', gse_id)"
   ]
  },
  {
   "cell_type": "markdown",
   "metadata": {},
   "source": [
    "## Load data"
   ]
  },
  {
   "cell_type": "code",
   "execution_count": null,
   "metadata": {},
   "outputs": [],
   "source": [
    "gse <- suppressMessages(simpleCache(sprintf('processed.%s', gse_id), {\n",
    "    gse_id %>%\n",
    "    sprintf(fmt='data/processed/%s_series_matrix.txt.gz') %>%\n",
    "    GEOquery:::parseGSEMatrix(destdir='data/processed') %$%\n",
    "    eset\n",
    "}))\n",
    "print(gse)"
   ]
  },
  {
   "cell_type": "code",
   "execution_count": null,
   "metadata": {},
   "outputs": [],
   "source": [
    "annot <- as.data.table(parse_annotation(gse_id, pData(gse)))\n",
    "annot %>%\n",
    "    filter(her2 == 'HER2+') %>%\n",
    "    select(treatment, outcome) %>%\n",
    "    table()"
   ]
  }
 ],
 "metadata": {
   "kernelspec": {
     "name": "r",
     "display_name": "R",
     "language": "R"
   },
   "language_info": {
     "mimetype": "text/x-r-source",
     "name": "R",
     "pygments_lexer": "r",
     "version": "3.4.1",
     "file_extension": ".r",
     "codemirror_mode": "r"
   }
 },
 "nbformat": 4,
 "nbformat_minor": 2
}
